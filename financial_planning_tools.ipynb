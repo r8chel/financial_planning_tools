{
 "cells": [
  {
   "cell_type": "markdown",
   "metadata": {},
   "source": [
    "# Financial Planning with APIs and Simulations\n",
    "\n",
    "Part 1: A financial planner for emergencies. The members will be able to use this tool to visualize their current savings. The members can then determine if they have enough reserves for an emergency fund.\n",
    "\n",
    "Part 2: A financial planner for retirement. This tool will forecast the performance of their retirement portfolio in 30 years. To do this, the tool will make an Alpaca API call via the Alpaca SDK to get historical price data for use in Monte Carlo simulations."
   ]
  },
  {
   "cell_type": "code",
   "execution_count": 1,
   "metadata": {},
   "outputs": [],
   "source": [
    "# Import the required libraries and dependencies\n",
    "import os\n",
    "import requests\n",
    "import json\n",
    "import pandas as pd\n",
    "from dotenv import load_dotenv\n",
    "import alpaca_trade_api as tradeapi\n",
    "from MCForecastTools import MCSimulation\n",
    "\n",
    "%matplotlib inline"
   ]
  },
  {
   "cell_type": "code",
   "execution_count": 2,
   "metadata": {},
   "outputs": [
    {
     "data": {
      "text/plain": [
       "True"
      ]
     },
     "execution_count": 2,
     "metadata": {},
     "output_type": "execute_result"
    }
   ],
   "source": [
    "# Load the environment variables from the .env file\n",
    "#by calling the load_dotenv function\n",
    "load_dotenv()"
   ]
  },
  {
   "cell_type": "markdown",
   "metadata": {},
   "source": [
    "## Part 1: Create a Financial Planner for Emergencies"
   ]
  },
  {
   "cell_type": "markdown",
   "metadata": {},
   "source": [
    "### Evaluate the Cryptocurrency Wallet by Using the Requests Library\n",
    "\n",
    "Determine the current value of a member’s cryptocurrency wallet. Collect the current prices for the Bitcoin and Ethereum cryptocurrencies by using the Python Requests library. For the prototype, assume that the member holds the 1.2 Bitcoins (BTC) and 5.3 Ethereum coins (ETH). "
   ]
  },
  {
   "cell_type": "code",
   "execution_count": 78,
   "metadata": {},
   "outputs": [],
   "source": [
    "# The current number of coins for each cryptocurrency asset held in the portfolio.(prototype)\n",
    "btc_coins = 1.2\n",
    "eth_coins = 5.3"
   ]
  },
  {
   "cell_type": "code",
   "execution_count": 79,
   "metadata": {},
   "outputs": [],
   "source": [
    "# The monthly amount for the member's household income (prototype)\n",
    "monthly_income = 12000"
   ]
  },
  {
   "cell_type": "markdown",
   "metadata": {},
   "source": [
    "#### Review the endpoint URLs for the API calls to Free Crypto API in order to get the current pricing information for both BTC and ETH."
   ]
  },
  {
   "cell_type": "code",
   "execution_count": 80,
   "metadata": {},
   "outputs": [],
   "source": [
    "# The Free Crypto API Call endpoint URLs for the held cryptocurrency assets\n",
    "btc_url = \"https://api.alternative.me/v2/ticker/Bitcoin/?convert=USD\"\n",
    "eth_url = \"https://api.alternative.me/v2/ticker/Ethereum/?convert=USD\""
   ]
  },
  {
   "cell_type": "markdown",
   "metadata": {},
   "source": [
    "#### Get the current price (in US dollars) of Bitcoin (BTC) and Ethereum (ETH) by using API endpoints"
   ]
  },
  {
   "cell_type": "code",
   "execution_count": 81,
   "metadata": {},
   "outputs": [
    {
     "name": "stdout",
     "output_type": "stream",
     "text": [
      "{\n",
      "    \"data\": {\n",
      "        \"1\": {\n",
      "            \"circulating_supply\": 18948737,\n",
      "            \"id\": 1,\n",
      "            \"last_updated\": 1643984922,\n",
      "            \"max_supply\": 21000000,\n",
      "            \"name\": \"Bitcoin\",\n",
      "            \"quotes\": {\n",
      "                \"USD\": {\n",
      "                    \"market_cap\": 716422068843,\n",
      "                    \"percent_change_1h\": -0.551370323197719,\n",
      "                    \"percent_change_24h\": 2.96115165100727,\n",
      "                    \"percent_change_7d\": 1.35668349302112,\n",
      "                    \"percentage_change_1h\": -0.551370323197719,\n",
      "                    \"percentage_change_24h\": 2.96115165100727,\n",
      "                    \"percentage_change_7d\": 1.35668349302112,\n",
      "                    \"price\": 37783.0,\n",
      "                    \"volume_24h\": 17411870081\n",
      "                }\n",
      "            },\n",
      "            \"rank\": 1,\n",
      "            \"symbol\": \"BTC\",\n",
      "            \"total_supply\": 18948737,\n",
      "            \"website_slug\": \"bitcoin\"\n",
      "        }\n",
      "    },\n",
      "    \"metadata\": {\n",
      "        \"error\": null,\n",
      "        \"num_cryptocurrencies\": 3105,\n",
      "        \"timestamp\": 1643984922\n",
      "    }\n",
      "}\n"
     ]
    }
   ],
   "source": [
    "# Using the Python requests library, make an API call to access the current price of BTC\n",
    "btc_response = requests.get(btc_url).json()\n",
    "\n",
    "# Use the json.dumps function to review the response data from the API call\n",
    "# Use the indent and sort_keys parameters to make the response object readable\n",
    "print(json.dumps(btc_response, indent=4, sort_keys=True))\n"
   ]
  },
  {
   "cell_type": "code",
   "execution_count": 82,
   "metadata": {},
   "outputs": [
    {
     "name": "stdout",
     "output_type": "stream",
     "text": [
      "{\n",
      "    \"data\": {\n",
      "        \"1027\": {\n",
      "            \"circulating_supply\": 119442048,\n",
      "            \"id\": 1027,\n",
      "            \"last_updated\": 1643984882,\n",
      "            \"max_supply\": 0,\n",
      "            \"name\": \"Ethereum\",\n",
      "            \"quotes\": {\n",
      "                \"USD\": {\n",
      "                    \"market_cap\": 334213743930,\n",
      "                    \"percent_change_1h\": -1.16987214096095,\n",
      "                    \"percent_change_24h\": 7.3432726592862,\n",
      "                    \"percent_change_7d\": 16.3378909829457,\n",
      "                    \"percentage_change_1h\": -1.16987214096095,\n",
      "                    \"percentage_change_24h\": 7.3432726592862,\n",
      "                    \"percentage_change_7d\": 16.3378909829457,\n",
      "                    \"price\": 2805.91,\n",
      "                    \"volume_24h\": 15557079683\n",
      "                }\n",
      "            },\n",
      "            \"rank\": 2,\n",
      "            \"symbol\": \"ETH\",\n",
      "            \"total_supply\": 119442048,\n",
      "            \"website_slug\": \"ethereum\"\n",
      "        }\n",
      "    },\n",
      "    \"metadata\": {\n",
      "        \"error\": null,\n",
      "        \"num_cryptocurrencies\": 3105,\n",
      "        \"timestamp\": 1643984882\n",
      "    }\n",
      "}\n"
     ]
    }
   ],
   "source": [
    "# Using the Python requests library, make an API call to access the current price ETH\n",
    "eth_response = requests.get(eth_url).json()\n",
    "\n",
    "# Use the json.dumps function to review the response data from the API call\n",
    "# Use the indent and sort_keys parameters to make the response object readable\n",
    "print(json.dumps(eth_response, indent=4, sort_keys=True))"
   ]
  },
  {
   "cell_type": "code",
   "execution_count": 83,
   "metadata": {},
   "outputs": [
    {
     "name": "stdout",
     "output_type": "stream",
     "text": [
      "The current price of Bitcoin is $37783.0\n"
     ]
    }
   ],
   "source": [
    "# Navigate the BTC response object to access the current price of BTC\n",
    "btc_price = btc_response['data']['1']['quotes']['USD']['price'] \n",
    "\n",
    "# Print the current price of BTC\n",
    "print(f'The current price of Bitcoin is ${btc_price}')"
   ]
  },
  {
   "cell_type": "code",
   "execution_count": 84,
   "metadata": {},
   "outputs": [
    {
     "name": "stdout",
     "output_type": "stream",
     "text": [
      "The current price of Ethereum is $2805.91\n"
     ]
    }
   ],
   "source": [
    "# Navigate the BTC response object to access the current price of ETH\n",
    "eth_price = eth_response['data']['1027']['quotes']['USD']['price']\n",
    "\n",
    "# Print the current price of ETH\n",
    "print(f'The current price of Ethereum is ${eth_price}')"
   ]
  },
  {
   "cell_type": "code",
   "execution_count": 86,
   "metadata": {},
   "outputs": [
    {
     "name": "stdout",
     "output_type": "stream",
     "text": [
      "The current value of your Bitcoin holdings is $45339.6\n"
     ]
    }
   ],
   "source": [
    "# Compute the current value of the BTC holding \n",
    "btc_value = btc_price * btc_coins\n",
    "\n",
    "# Print current value of your holding in BTC\n",
    "print(f'The current value of your Bitcoin holdings is ${round(btc_value, 2)}')\n"
   ]
  },
  {
   "cell_type": "code",
   "execution_count": 87,
   "metadata": {},
   "outputs": [
    {
     "name": "stdout",
     "output_type": "stream",
     "text": [
      "The current value of your Ethereum holdings is $14871.32\n"
     ]
    }
   ],
   "source": [
    "# Compute the current value of the ETH holding \n",
    "eth_value = eth_price * eth_coins\n",
    "\n",
    "# Print current value of your holding in ETH\n",
    "print(f'The current value of your Ethereum holdings is ${round(eth_value, 2)}')"
   ]
  },
  {
   "cell_type": "code",
   "execution_count": 89,
   "metadata": {},
   "outputs": [
    {
     "name": "stdout",
     "output_type": "stream",
     "text": [
      "The total current value of your cryptocurrency wallet is $60210.92\n"
     ]
    }
   ],
   "source": [
    "# Compute the total value of the cryptocurrency wallet\n",
    "total_crypto_wallet = btc_value + eth_value\n",
    "\n",
    "# Print current cryptocurrency wallet balance\n",
    "print(f'The total current value of your cryptocurrency wallet is ${round(total_crypto_wallet,2)}')"
   ]
  },
  {
   "cell_type": "markdown",
   "metadata": {},
   "source": [
    "### Evaluate the Stock and Bond Holdings by Using the Alpaca SDK\n",
    "\n",
    "Determine the current value of a member’s stock and bond holdings. For the prototype, assume that the member holds 110 shares of SPY, which represents the stock portion of their portfolio, and 200 shares of AGG, which represents the bond portion. "
   ]
  },
  {
   "cell_type": "code",
   "execution_count": 90,
   "metadata": {},
   "outputs": [],
   "source": [
    "# Current amount of shares held in both the stock (SPY) and bond (AGG) portion of the portfolio.\n",
    "spy_shares = 110\n",
    "agg_shares = 200"
   ]
  },
  {
   "cell_type": "code",
   "execution_count": 91,
   "metadata": {},
   "outputs": [],
   "source": [
    "# Set the variables for the Alpaca API and secret keys\n",
    "alpaca_api_key = os.getenv('ALPACA_API_KEY')\n",
    "alpaca_secret_key = os.getenv('ALPACA_SECRET_KEY')\n",
    "\n",
    "# Create the Alpaca tradeapi.REST object\n",
    "alpaca = tradeapi.REST(\n",
    "    alpaca_api_key,\n",
    "    alpaca_secret_key,\n",
    "    api_version='v2')\n"
   ]
  },
  {
   "cell_type": "code",
   "execution_count": 92,
   "metadata": {},
   "outputs": [],
   "source": [
    "# Set the tickers for both the bond and stock portion of the portfolio\n",
    "tickers = ['SPY', 'AGG']\n",
    "# Set timeframe to one day ('1D') for the Alpaca API\n",
    "timeframe = '1D'\n",
    "\n",
    "# Format current date as ISO format\n",
    "start_date = pd.Timestamp('2022-02-01', tz='America/New_York').isoformat()\n",
    "end_date = pd.Timestamp('2022-02-01', tz='America/New_York').isoformat()\n"
   ]
  },
  {
   "cell_type": "code",
   "execution_count": 93,
   "metadata": {},
   "outputs": [
    {
     "data": {
      "text/html": [
       "<div>\n",
       "<style scoped>\n",
       "    .dataframe tbody tr th:only-of-type {\n",
       "        vertical-align: middle;\n",
       "    }\n",
       "\n",
       "    .dataframe tbody tr th {\n",
       "        vertical-align: top;\n",
       "    }\n",
       "\n",
       "    .dataframe thead tr th {\n",
       "        text-align: left;\n",
       "    }\n",
       "\n",
       "    .dataframe thead tr:last-of-type th {\n",
       "        text-align: right;\n",
       "    }\n",
       "</style>\n",
       "<table border=\"1\" class=\"dataframe\">\n",
       "  <thead>\n",
       "    <tr>\n",
       "      <th></th>\n",
       "      <th colspan=\"5\" halign=\"left\">AGG</th>\n",
       "      <th colspan=\"5\" halign=\"left\">SPY</th>\n",
       "    </tr>\n",
       "    <tr>\n",
       "      <th></th>\n",
       "      <th>open</th>\n",
       "      <th>high</th>\n",
       "      <th>low</th>\n",
       "      <th>close</th>\n",
       "      <th>volume</th>\n",
       "      <th>open</th>\n",
       "      <th>high</th>\n",
       "      <th>low</th>\n",
       "      <th>close</th>\n",
       "      <th>volume</th>\n",
       "    </tr>\n",
       "    <tr>\n",
       "      <th>time</th>\n",
       "      <th></th>\n",
       "      <th></th>\n",
       "      <th></th>\n",
       "      <th></th>\n",
       "      <th></th>\n",
       "      <th></th>\n",
       "      <th></th>\n",
       "      <th></th>\n",
       "      <th></th>\n",
       "      <th></th>\n",
       "    </tr>\n",
       "  </thead>\n",
       "  <tbody>\n",
       "    <tr>\n",
       "      <th>2022-02-01 00:00:00-05:00</th>\n",
       "      <td>111.66</td>\n",
       "      <td>111.6764</td>\n",
       "      <td>111.38</td>\n",
       "      <td>111.59</td>\n",
       "      <td>9477222</td>\n",
       "      <td>450.72</td>\n",
       "      <td>453.63</td>\n",
       "      <td>446.9384</td>\n",
       "      <td>452.96</td>\n",
       "      <td>106515279</td>\n",
       "    </tr>\n",
       "  </tbody>\n",
       "</table>\n",
       "</div>"
      ],
      "text/plain": [
       "                              AGG                                        SPY  \\\n",
       "                             open      high     low   close   volume    open   \n",
       "time                                                                           \n",
       "2022-02-01 00:00:00-05:00  111.66  111.6764  111.38  111.59  9477222  450.72   \n",
       "\n",
       "                                                                \n",
       "                             high       low   close     volume  \n",
       "time                                                            \n",
       "2022-02-01 00:00:00-05:00  453.63  446.9384  452.96  106515279  "
      ]
     },
     "execution_count": 93,
     "metadata": {},
     "output_type": "execute_result"
    }
   ],
   "source": [
    "# Use the Alpaca get_barset function to get current closing prices the portfolio\n",
    "# Get current closing prices for SPY and AGG\n",
    "df_portfolio = alpaca.get_barset(\n",
    "    tickers,\n",
    "    timeframe,\n",
    "    start = start_date,\n",
    "    end = end_date\n",
    ").df\n",
    "\n",
    "# Review the first 5 rows of the Alpaca DataFrame\n",
    "df_portfolio.head()"
   ]
  },
  {
   "cell_type": "code",
   "execution_count": 103,
   "metadata": {},
   "outputs": [
    {
     "name": "stdout",
     "output_type": "stream",
     "text": [
      "The AGG closing price on 2022-02-01T00:00:00-05:00 was $111.59\n"
     ]
    }
   ],
   "source": [
    "# Access the closing price for AGG from the Alpaca DataFrame\n",
    "# Converting the value to a floating point number\n",
    "agg_close_price = float(df_portfolio['AGG']['close'])\n",
    "\n",
    "# Print the AGG closing price\n",
    "print(f'The AGG closing price on {end_date} was ${agg_close_price}')"
   ]
  },
  {
   "cell_type": "code",
   "execution_count": 104,
   "metadata": {},
   "outputs": [
    {
     "name": "stdout",
     "output_type": "stream",
     "text": [
      "The SPY closing price on 2022-02-01T00:00:00-05:00 was $452.96\n"
     ]
    }
   ],
   "source": [
    "# Access the closing price for SPY from the Alpaca DataFrame\n",
    "# Converting the value to a floating point number\n",
    "spy_close_price = float(df_portfolio['SPY']['close'])\n",
    "\n",
    "# Print the SPY closing price\n",
    "print(f'The SPY closing price on {end_date} was ${spy_close_price}')"
   ]
  },
  {
   "cell_type": "code",
   "execution_count": 107,
   "metadata": {},
   "outputs": [
    {
     "name": "stdout",
     "output_type": "stream",
     "text": [
      "The current value of your bond portfolio is $22318.0\n"
     ]
    }
   ],
   "source": [
    "# Calculate the current value of the bond portion of the portfolio\n",
    "agg_value = agg_close_price * agg_shares\n",
    "\n",
    "# Print the current value of the bond portfolio\n",
    "print(f'The current value of your bond portfolio is ${agg_value}')"
   ]
  },
  {
   "cell_type": "code",
   "execution_count": 108,
   "metadata": {},
   "outputs": [
    {
     "name": "stdout",
     "output_type": "stream",
     "text": [
      "The current value of your stock portfolio is $49825.6\n"
     ]
    }
   ],
   "source": [
    "# Calculate the current value of the stock portion of the portfolio\n",
    "spy_value = spy_close_price * spy_shares\n",
    "\n",
    "# Print the current value of the stock portfolio\n",
    "print(f'The current value of your stock portfolio is ${spy_value}')"
   ]
  },
  {
   "cell_type": "code",
   "execution_count": 109,
   "metadata": {},
   "outputs": [
    {
     "name": "stdout",
     "output_type": "stream",
     "text": [
      "The current balance of your stock and bond portfolio is $72143.6\n"
     ]
    }
   ],
   "source": [
    "# Calculate the total value of the stock and bond portion of the portfolio\n",
    "total_stocks_bonds = agg_value + spy_value\n",
    "\n",
    "# Print the current balance of the stock and bond portion of the portfolio\n",
    "print(f'The current balance of your stock and bond portfolio is ${total_stocks_bonds}')"
   ]
  },
  {
   "cell_type": "code",
   "execution_count": 111,
   "metadata": {},
   "outputs": [
    {
     "name": "stdout",
     "output_type": "stream",
     "text": [
      "The current balance of your cryptocurrency wallet is $60210.92\n",
      "The current balance of your stock and bond portfolio is $72143.6\n",
      "The current balance of your entire savings portfolio is $132354.52\n"
     ]
    }
   ],
   "source": [
    "# Calculate the total value of the member's entire savings portfolio\n",
    "# Add the value of the cryptocurrency walled to the value of the total stocks and bonds\n",
    "total_portfolio = total_stocks_bonds + total_crypto_wallet\n",
    "\n",
    "print(f'The current balance of your cryptocurrency wallet is ${round(total_crypto_wallet, 2)}')\n",
    "print(f'The current balance of your stock and bond portfolio is ${round(total_stocks_bonds, 2)}')\n",
    "print(f'The current balance of your entire savings portfolio is ${round(total_portfolio, 2)}')\n"
   ]
  },
  {
   "cell_type": "markdown",
   "metadata": {},
   "source": [
    "### Evaluate the Emergency Fund\n"
   ]
  },
  {
   "cell_type": "code",
   "execution_count": 54,
   "metadata": {},
   "outputs": [
    {
     "name": "stdout",
     "output_type": "stream",
     "text": [
      "[72143.6, 57848.655999999995]\n"
     ]
    }
   ],
   "source": [
    "# Consolidate financial assets data into a Python list\n",
    "savings_data = [total_stocks_bonds, total_crypto_wallet]\n",
    "\n",
    "# Review the Python list savings_data\n",
    "print(savings_data)"
   ]
  },
  {
   "cell_type": "code",
   "execution_count": 112,
   "metadata": {},
   "outputs": [
    {
     "name": "stdout",
     "output_type": "stream",
     "text": [
      "               Amount\n",
      "Crypto      72143.600\n",
      "Stock/Bond  57848.656\n"
     ]
    }
   ],
   "source": [
    "# Create a Pandas DataFrame called savings_df \n",
    "savings_df = pd.DataFrame(\n",
    "    savings_data,\n",
    "    index = ['Crypto', 'Stock/Bond'],\n",
    "    columns = ['Amount']\n",
    ")\n",
    "\n",
    "# Display the savings_df DataFrame\n",
    "print(savings_df)"
   ]
  },
  {
   "cell_type": "markdown",
   "metadata": {},
   "source": [
    "#### Visualize the composition of the member's portfolio using the `savings_df` DataFrame to plot a pie chart. The y-axis of the pie chart uses `amount`."
   ]
  },
  {
   "cell_type": "code",
   "execution_count": 113,
   "metadata": {},
   "outputs": [
    {
     "data": {
      "text/plain": [
       "<AxesSubplot:title={'center':'Portfolio Composition'}, ylabel='Amount'>"
      ]
     },
     "execution_count": 113,
     "metadata": {},
     "output_type": "execute_result"
    },
    {
     "data": {
      "image/png": "[encoded data removed]",
      "text/plain": [
       "<Figure size 504x504 with 1 Axes>"
      ]
     },
     "metadata": {},
     "output_type": "display_data"
    }
   ],
   "source": [
    "# Plot the total value of the member's portfolio (crypto and stock/bond) in a pie chart\n",
    "savings_df.plot.pie(\n",
    "    y = 'Amount',\n",
    "    title = 'Portfolio Composition',\n",
    "    figsize = (7, 7)\n",
    ")\n"
   ]
  },
  {
   "cell_type": "markdown",
   "metadata": {},
   "source": [
    "#### Determine if the current portfolio has enough to create an emergency fund as part of the member’s financial plan. Ideally, an emergency fund should equal to three times the member’s monthly income. "
   ]
  },
  {
   "cell_type": "code",
   "execution_count": 57,
   "metadata": {},
   "outputs": [],
   "source": [
    "# emergency_fund_value is equal to 3 times the monthly income\n",
    "emergency_fund_value = 3 * monthly_income"
   ]
  },
  {
   "cell_type": "code",
   "execution_count": 58,
   "metadata": {},
   "outputs": [
    {
     "name": "stdout",
     "output_type": "stream",
     "text": [
      "Congratulations! You have enough money to weather an emergency.\n"
     ]
    }
   ],
   "source": [
    "# Evaluate the amount of the emergency fund:\n",
    "if total_portfolio > emergency_fund_value:\n",
    "    print('Congratulations! You have enough money to weather an emergency.')\n",
    "elif total_portfolio == emergency_fund_value:\n",
    "    print('Congratulations, you have reached and important financial goal.')\n",
    "else:\n",
    "    print(f'You are on the right track, you have ${emergency_fund_value - total_portfolio: .2f} left to save.')"
   ]
  },
  {
   "cell_type": "markdown",
   "metadata": {},
   "source": [
    "## Financial Planner for Retirement"
   ]
  },
  {
   "cell_type": "markdown",
   "metadata": {},
   "source": [
    "#### Using the Alpaca SDK to get 3 years of historical closing prices for a traditional 60/40 portfolio split: 60% stocks (SPY) and 40% bonds (AGG)."
   ]
  },
  {
   "cell_type": "code",
   "execution_count": 114,
   "metadata": {},
   "outputs": [],
   "source": [
    "# Set start and end dates of 3 years back from your current date\n",
    "start_date = pd.Timestamp('2019-02-02', tz = 'America/New_York').isoformat()\n",
    "end_date = pd.Timestamp('2022-02-02', tz = 'America/New_York').isoformat()\n",
    "# Set number of rows to 1000 to retrieve the maximum amount of rows\n",
    "rows = 1000"
   ]
  },
  {
   "cell_type": "code",
   "execution_count": 115,
   "metadata": {},
   "outputs": [
    {
     "data": {
      "text/html": [
       "<div>\n",
       "<style scoped>\n",
       "    .dataframe tbody tr th:only-of-type {\n",
       "        vertical-align: middle;\n",
       "    }\n",
       "\n",
       "    .dataframe tbody tr th {\n",
       "        vertical-align: top;\n",
       "    }\n",
       "\n",
       "    .dataframe thead tr th {\n",
       "        text-align: left;\n",
       "    }\n",
       "\n",
       "    .dataframe thead tr:last-of-type th {\n",
       "        text-align: right;\n",
       "    }\n",
       "</style>\n",
       "<table border=\"1\" class=\"dataframe\">\n",
       "  <thead>\n",
       "    <tr>\n",
       "      <th></th>\n",
       "      <th colspan=\"5\" halign=\"left\">AGG</th>\n",
       "      <th colspan=\"5\" halign=\"left\">SPY</th>\n",
       "    </tr>\n",
       "    <tr>\n",
       "      <th></th>\n",
       "      <th>open</th>\n",
       "      <th>high</th>\n",
       "      <th>low</th>\n",
       "      <th>close</th>\n",
       "      <th>volume</th>\n",
       "      <th>open</th>\n",
       "      <th>high</th>\n",
       "      <th>low</th>\n",
       "      <th>close</th>\n",
       "      <th>volume</th>\n",
       "    </tr>\n",
       "    <tr>\n",
       "      <th>time</th>\n",
       "      <th></th>\n",
       "      <th></th>\n",
       "      <th></th>\n",
       "      <th></th>\n",
       "      <th></th>\n",
       "      <th></th>\n",
       "      <th></th>\n",
       "      <th></th>\n",
       "      <th></th>\n",
       "      <th></th>\n",
       "    </tr>\n",
       "  </thead>\n",
       "  <tbody>\n",
       "    <tr>\n",
       "      <th>2019-02-04 00:00:00-05:00</th>\n",
       "      <td>106.83</td>\n",
       "      <td>106.9000</td>\n",
       "      <td>106.770</td>\n",
       "      <td>106.8950</td>\n",
       "      <td>9790488</td>\n",
       "      <td>270.11</td>\n",
       "      <td>271.8000</td>\n",
       "      <td>269.36</td>\n",
       "      <td>271.78</td>\n",
       "      <td>46985797</td>\n",
       "    </tr>\n",
       "    <tr>\n",
       "      <th>2019-02-05 00:00:00-05:00</th>\n",
       "      <td>106.95</td>\n",
       "      <td>107.1400</td>\n",
       "      <td>106.950</td>\n",
       "      <td>107.0900</td>\n",
       "      <td>4918385</td>\n",
       "      <td>272.44</td>\n",
       "      <td>273.4400</td>\n",
       "      <td>271.88</td>\n",
       "      <td>273.13</td>\n",
       "      <td>61540042</td>\n",
       "    </tr>\n",
       "    <tr>\n",
       "      <th>2019-02-06 00:00:00-05:00</th>\n",
       "      <td>107.20</td>\n",
       "      <td>107.2200</td>\n",
       "      <td>106.985</td>\n",
       "      <td>107.0441</td>\n",
       "      <td>6022187</td>\n",
       "      <td>272.79</td>\n",
       "      <td>273.3400</td>\n",
       "      <td>271.92</td>\n",
       "      <td>272.70</td>\n",
       "      <td>43446324</td>\n",
       "    </tr>\n",
       "    <tr>\n",
       "      <th>2019-02-07 00:00:00-05:00</th>\n",
       "      <td>107.15</td>\n",
       "      <td>107.1983</td>\n",
       "      <td>107.030</td>\n",
       "      <td>107.1500</td>\n",
       "      <td>3080898</td>\n",
       "      <td>270.94</td>\n",
       "      <td>271.5500</td>\n",
       "      <td>268.29</td>\n",
       "      <td>269.97</td>\n",
       "      <td>83380785</td>\n",
       "    </tr>\n",
       "    <tr>\n",
       "      <th>2019-02-08 00:00:00-05:00</th>\n",
       "      <td>107.17</td>\n",
       "      <td>107.3800</td>\n",
       "      <td>107.170</td>\n",
       "      <td>107.3550</td>\n",
       "      <td>2988674</td>\n",
       "      <td>268.75</td>\n",
       "      <td>270.2874</td>\n",
       "      <td>267.83</td>\n",
       "      <td>270.08</td>\n",
       "      <td>63409417</td>\n",
       "    </tr>\n",
       "  </tbody>\n",
       "</table>\n",
       "</div>"
      ],
      "text/plain": [
       "                              AGG                                        \\\n",
       "                             open      high      low     close   volume   \n",
       "time                                                                      \n",
       "2019-02-04 00:00:00-05:00  106.83  106.9000  106.770  106.8950  9790488   \n",
       "2019-02-05 00:00:00-05:00  106.95  107.1400  106.950  107.0900  4918385   \n",
       "2019-02-06 00:00:00-05:00  107.20  107.2200  106.985  107.0441  6022187   \n",
       "2019-02-07 00:00:00-05:00  107.15  107.1983  107.030  107.1500  3080898   \n",
       "2019-02-08 00:00:00-05:00  107.17  107.3800  107.170  107.3550  2988674   \n",
       "\n",
       "                              SPY                                      \n",
       "                             open      high     low   close    volume  \n",
       "time                                                                   \n",
       "2019-02-04 00:00:00-05:00  270.11  271.8000  269.36  271.78  46985797  \n",
       "2019-02-05 00:00:00-05:00  272.44  273.4400  271.88  273.13  61540042  \n",
       "2019-02-06 00:00:00-05:00  272.79  273.3400  271.92  272.70  43446324  \n",
       "2019-02-07 00:00:00-05:00  270.94  271.5500  268.29  269.97  83380785  \n",
       "2019-02-08 00:00:00-05:00  268.75  270.2874  267.83  270.08  63409417  "
      ]
     },
     "metadata": {},
     "output_type": "display_data"
    },
    {
     "data": {
      "text/html": [
       "<div>\n",
       "<style scoped>\n",
       "    .dataframe tbody tr th:only-of-type {\n",
       "        vertical-align: middle;\n",
       "    }\n",
       "\n",
       "    .dataframe tbody tr th {\n",
       "        vertical-align: top;\n",
       "    }\n",
       "\n",
       "    .dataframe thead tr th {\n",
       "        text-align: left;\n",
       "    }\n",
       "\n",
       "    .dataframe thead tr:last-of-type th {\n",
       "        text-align: right;\n",
       "    }\n",
       "</style>\n",
       "<table border=\"1\" class=\"dataframe\">\n",
       "  <thead>\n",
       "    <tr>\n",
       "      <th></th>\n",
       "      <th colspan=\"5\" halign=\"left\">AGG</th>\n",
       "      <th colspan=\"5\" halign=\"left\">SPY</th>\n",
       "    </tr>\n",
       "    <tr>\n",
       "      <th></th>\n",
       "      <th>open</th>\n",
       "      <th>high</th>\n",
       "      <th>low</th>\n",
       "      <th>close</th>\n",
       "      <th>volume</th>\n",
       "      <th>open</th>\n",
       "      <th>high</th>\n",
       "      <th>low</th>\n",
       "      <th>close</th>\n",
       "      <th>volume</th>\n",
       "    </tr>\n",
       "    <tr>\n",
       "      <th>time</th>\n",
       "      <th></th>\n",
       "      <th></th>\n",
       "      <th></th>\n",
       "      <th></th>\n",
       "      <th></th>\n",
       "      <th></th>\n",
       "      <th></th>\n",
       "      <th></th>\n",
       "      <th></th>\n",
       "      <th></th>\n",
       "    </tr>\n",
       "  </thead>\n",
       "  <tbody>\n",
       "    <tr>\n",
       "      <th>2022-01-27 00:00:00-05:00</th>\n",
       "      <td>111.62</td>\n",
       "      <td>111.8800</td>\n",
       "      <td>111.6200</td>\n",
       "      <td>111.72</td>\n",
       "      <td>5836124</td>\n",
       "      <td>438.26</td>\n",
       "      <td>441.58</td>\n",
       "      <td>429.4500</td>\n",
       "      <td>431.270</td>\n",
       "      <td>136251597</td>\n",
       "    </tr>\n",
       "    <tr>\n",
       "      <th>2022-01-28 00:00:00-05:00</th>\n",
       "      <td>111.46</td>\n",
       "      <td>111.8600</td>\n",
       "      <td>111.4400</td>\n",
       "      <td>111.81</td>\n",
       "      <td>10400422</td>\n",
       "      <td>432.70</td>\n",
       "      <td>442.00</td>\n",
       "      <td>427.8200</td>\n",
       "      <td>441.920</td>\n",
       "      <td>142062305</td>\n",
       "    </tr>\n",
       "    <tr>\n",
       "      <th>2022-01-31 00:00:00-05:00</th>\n",
       "      <td>111.64</td>\n",
       "      <td>111.8900</td>\n",
       "      <td>111.6000</td>\n",
       "      <td>111.78</td>\n",
       "      <td>11437834</td>\n",
       "      <td>441.24</td>\n",
       "      <td>450.28</td>\n",
       "      <td>439.8100</td>\n",
       "      <td>449.815</td>\n",
       "      <td>128202383</td>\n",
       "    </tr>\n",
       "    <tr>\n",
       "      <th>2022-02-01 00:00:00-05:00</th>\n",
       "      <td>111.66</td>\n",
       "      <td>111.6764</td>\n",
       "      <td>111.3800</td>\n",
       "      <td>111.59</td>\n",
       "      <td>9477222</td>\n",
       "      <td>450.72</td>\n",
       "      <td>453.63</td>\n",
       "      <td>446.9384</td>\n",
       "      <td>452.960</td>\n",
       "      <td>106515279</td>\n",
       "    </tr>\n",
       "    <tr>\n",
       "      <th>2022-02-02 00:00:00-05:00</th>\n",
       "      <td>111.70</td>\n",
       "      <td>111.9700</td>\n",
       "      <td>111.6744</td>\n",
       "      <td>111.72</td>\n",
       "      <td>7424696</td>\n",
       "      <td>455.50</td>\n",
       "      <td>458.12</td>\n",
       "      <td>453.0500</td>\n",
       "      <td>457.300</td>\n",
       "      <td>97807976</td>\n",
       "    </tr>\n",
       "  </tbody>\n",
       "</table>\n",
       "</div>"
      ],
      "text/plain": [
       "                              AGG                                        \\\n",
       "                             open      high       low   close    volume   \n",
       "time                                                                      \n",
       "2022-01-27 00:00:00-05:00  111.62  111.8800  111.6200  111.72   5836124   \n",
       "2022-01-28 00:00:00-05:00  111.46  111.8600  111.4400  111.81  10400422   \n",
       "2022-01-31 00:00:00-05:00  111.64  111.8900  111.6000  111.78  11437834   \n",
       "2022-02-01 00:00:00-05:00  111.66  111.6764  111.3800  111.59   9477222   \n",
       "2022-02-02 00:00:00-05:00  111.70  111.9700  111.6744  111.72   7424696   \n",
       "\n",
       "                              SPY                                        \n",
       "                             open    high       low    close     volume  \n",
       "time                                                                     \n",
       "2022-01-27 00:00:00-05:00  438.26  441.58  429.4500  431.270  136251597  \n",
       "2022-01-28 00:00:00-05:00  432.70  442.00  427.8200  441.920  142062305  \n",
       "2022-01-31 00:00:00-05:00  441.24  450.28  439.8100  449.815  128202383  \n",
       "2022-02-01 00:00:00-05:00  450.72  453.63  446.9384  452.960  106515279  \n",
       "2022-02-02 00:00:00-05:00  455.50  458.12  453.0500  457.300   97807976  "
      ]
     },
     "metadata": {},
     "output_type": "display_data"
    }
   ],
   "source": [
    "# Use the Alpaca get_barset function to make the API call to get the 3 years worth of pricing data\n",
    "\n",
    "stock_df = alpaca.get_barset(\n",
    "    tickers,\n",
    "    timeframe,\n",
    "    start = start_date,\n",
    "    end = end_date,\n",
    "    limit = rows\n",
    ").df\n",
    "\n",
    "# Display both the first and last five rows of the DataFrame\n",
    "display(stock_df.head())\n",
    "display(stock_df.tail())"
   ]
  },
  {
   "cell_type": "markdown",
   "metadata": {},
   "source": [
    "#### Run a Monte Carlo simulation of 500 samples and 30 years for the 60/40 portfolio, and then plot the results."
   ]
  },
  {
   "cell_type": "code",
   "execution_count": 116,
   "metadata": {},
   "outputs": [
    {
     "data": {
      "text/html": [
       "<div>\n",
       "<style scoped>\n",
       "    .dataframe tbody tr th:only-of-type {\n",
       "        vertical-align: middle;\n",
       "    }\n",
       "\n",
       "    .dataframe tbody tr th {\n",
       "        vertical-align: top;\n",
       "    }\n",
       "\n",
       "    .dataframe thead tr th {\n",
       "        text-align: left;\n",
       "    }\n",
       "\n",
       "    .dataframe thead tr:last-of-type th {\n",
       "        text-align: right;\n",
       "    }\n",
       "</style>\n",
       "<table border=\"1\" class=\"dataframe\">\n",
       "  <thead>\n",
       "    <tr>\n",
       "      <th></th>\n",
       "      <th colspan=\"6\" halign=\"left\">AGG</th>\n",
       "      <th colspan=\"6\" halign=\"left\">SPY</th>\n",
       "    </tr>\n",
       "    <tr>\n",
       "      <th></th>\n",
       "      <th>open</th>\n",
       "      <th>high</th>\n",
       "      <th>low</th>\n",
       "      <th>close</th>\n",
       "      <th>volume</th>\n",
       "      <th>daily_return</th>\n",
       "      <th>open</th>\n",
       "      <th>high</th>\n",
       "      <th>low</th>\n",
       "      <th>close</th>\n",
       "      <th>volume</th>\n",
       "      <th>daily_return</th>\n",
       "    </tr>\n",
       "    <tr>\n",
       "      <th>time</th>\n",
       "      <th></th>\n",
       "      <th></th>\n",
       "      <th></th>\n",
       "      <th></th>\n",
       "      <th></th>\n",
       "      <th></th>\n",
       "      <th></th>\n",
       "      <th></th>\n",
       "      <th></th>\n",
       "      <th></th>\n",
       "      <th></th>\n",
       "      <th></th>\n",
       "    </tr>\n",
       "  </thead>\n",
       "  <tbody>\n",
       "    <tr>\n",
       "      <th>2019-02-04 00:00:00-05:00</th>\n",
       "      <td>106.83</td>\n",
       "      <td>106.9000</td>\n",
       "      <td>106.770</td>\n",
       "      <td>106.8950</td>\n",
       "      <td>9790488</td>\n",
       "      <td>NaN</td>\n",
       "      <td>270.11</td>\n",
       "      <td>271.8000</td>\n",
       "      <td>269.36</td>\n",
       "      <td>271.78</td>\n",
       "      <td>46985797</td>\n",
       "      <td>NaN</td>\n",
       "    </tr>\n",
       "    <tr>\n",
       "      <th>2019-02-05 00:00:00-05:00</th>\n",
       "      <td>106.95</td>\n",
       "      <td>107.1400</td>\n",
       "      <td>106.950</td>\n",
       "      <td>107.0900</td>\n",
       "      <td>4918385</td>\n",
       "      <td>0.001824</td>\n",
       "      <td>272.44</td>\n",
       "      <td>273.4400</td>\n",
       "      <td>271.88</td>\n",
       "      <td>273.13</td>\n",
       "      <td>61540042</td>\n",
       "      <td>0.004967</td>\n",
       "    </tr>\n",
       "    <tr>\n",
       "      <th>2019-02-06 00:00:00-05:00</th>\n",
       "      <td>107.20</td>\n",
       "      <td>107.2200</td>\n",
       "      <td>106.985</td>\n",
       "      <td>107.0441</td>\n",
       "      <td>6022187</td>\n",
       "      <td>-0.000429</td>\n",
       "      <td>272.79</td>\n",
       "      <td>273.3400</td>\n",
       "      <td>271.92</td>\n",
       "      <td>272.70</td>\n",
       "      <td>43446324</td>\n",
       "      <td>-0.001574</td>\n",
       "    </tr>\n",
       "    <tr>\n",
       "      <th>2019-02-07 00:00:00-05:00</th>\n",
       "      <td>107.15</td>\n",
       "      <td>107.1983</td>\n",
       "      <td>107.030</td>\n",
       "      <td>107.1500</td>\n",
       "      <td>3080898</td>\n",
       "      <td>0.000989</td>\n",
       "      <td>270.94</td>\n",
       "      <td>271.5500</td>\n",
       "      <td>268.29</td>\n",
       "      <td>269.97</td>\n",
       "      <td>83380785</td>\n",
       "      <td>-0.010011</td>\n",
       "    </tr>\n",
       "    <tr>\n",
       "      <th>2019-02-08 00:00:00-05:00</th>\n",
       "      <td>107.17</td>\n",
       "      <td>107.3800</td>\n",
       "      <td>107.170</td>\n",
       "      <td>107.3550</td>\n",
       "      <td>2988674</td>\n",
       "      <td>0.001913</td>\n",
       "      <td>268.75</td>\n",
       "      <td>270.2874</td>\n",
       "      <td>267.83</td>\n",
       "      <td>270.08</td>\n",
       "      <td>63409417</td>\n",
       "      <td>0.000407</td>\n",
       "    </tr>\n",
       "  </tbody>\n",
       "</table>\n",
       "</div>"
      ],
      "text/plain": [
       "                              AGG                                        \\\n",
       "                             open      high      low     close   volume   \n",
       "time                                                                      \n",
       "2019-02-04 00:00:00-05:00  106.83  106.9000  106.770  106.8950  9790488   \n",
       "2019-02-05 00:00:00-05:00  106.95  107.1400  106.950  107.0900  4918385   \n",
       "2019-02-06 00:00:00-05:00  107.20  107.2200  106.985  107.0441  6022187   \n",
       "2019-02-07 00:00:00-05:00  107.15  107.1983  107.030  107.1500  3080898   \n",
       "2019-02-08 00:00:00-05:00  107.17  107.3800  107.170  107.3550  2988674   \n",
       "\n",
       "                                           SPY                            \\\n",
       "                          daily_return    open      high     low   close   \n",
       "time                                                                       \n",
       "2019-02-04 00:00:00-05:00          NaN  270.11  271.8000  269.36  271.78   \n",
       "2019-02-05 00:00:00-05:00     0.001824  272.44  273.4400  271.88  273.13   \n",
       "2019-02-06 00:00:00-05:00    -0.000429  272.79  273.3400  271.92  272.70   \n",
       "2019-02-07 00:00:00-05:00     0.000989  270.94  271.5500  268.29  269.97   \n",
       "2019-02-08 00:00:00-05:00     0.001913  268.75  270.2874  267.83  270.08   \n",
       "\n",
       "                                                  \n",
       "                             volume daily_return  \n",
       "time                                              \n",
       "2019-02-04 00:00:00-05:00  46985797          NaN  \n",
       "2019-02-05 00:00:00-05:00  61540042     0.004967  \n",
       "2019-02-06 00:00:00-05:00  43446324    -0.001574  \n",
       "2019-02-07 00:00:00-05:00  83380785    -0.010011  \n",
       "2019-02-08 00:00:00-05:00  63409417     0.000407  "
      ]
     },
     "execution_count": 116,
     "metadata": {},
     "output_type": "execute_result"
    }
   ],
   "source": [
    "# Configure the Monte Carlo simulation to forecast 30 years cumulative returns\n",
    "# The weights should be split 40% to AGG and 60% to SPY.\n",
    "# Run 500 samples.\n",
    "mc_30year = MCSimulation(\n",
    "    portfolio_data = stock_df,\n",
    "    weights = [.4, .6],\n",
    "    num_simulation = 500,\n",
    "    num_trading_days = 252 * 30\n",
    ")\n",
    "\n",
    "# Review the simulation input data\n",
    "mc_30year.portfolio_data.head()"
   ]
  },
  {
   "cell_type": "code",
   "execution_count": 117,
   "metadata": {},
   "outputs": [
    {
     "name": "stdout",
     "output_type": "stream",
     "text": [
      "Running Monte Carlo simulation number 0.\n",
      "Running Monte Carlo simulation number 10.\n",
      "Running Monte Carlo simulation number 20.\n",
      "Running Monte Carlo simulation number 30.\n",
      "Running Monte Carlo simulation number 40.\n",
      "Running Monte Carlo simulation number 50.\n",
      "Running Monte Carlo simulation number 60.\n",
      "Running Monte Carlo simulation number 70.\n",
      "Running Monte Carlo simulation number 80.\n",
      "Running Monte Carlo simulation number 90.\n",
      "Running Monte Carlo simulation number 100.\n"
     ]
    },
    {
     "name": "stderr",
     "output_type": "stream",
     "text": [
      "/Users/rachelbates/Desktop/FinTech_Workspace/Homework_Activities/Module_5/financial_planning_tools/MCForecastTools.py:117: PerformanceWarning: DataFrame is highly fragmented.  This is usually the result of calling `frame.insert` many times, which has poor performance.  Consider joining all columns at once using pd.concat(axis=1) instead.  To get a de-fragmented frame, use `newframe = frame.copy()`\n",
      "  portfolio_cumulative_returns[n] = (1 + sim_df.fillna(0)).cumprod()\n"
     ]
    },
    {
     "name": "stdout",
     "output_type": "stream",
     "text": [
      "Running Monte Carlo simulation number 110.\n",
      "Running Monte Carlo simulation number 120.\n",
      "Running Monte Carlo simulation number 130.\n",
      "Running Monte Carlo simulation number 140.\n",
      "Running Monte Carlo simulation number 150.\n",
      "Running Monte Carlo simulation number 160.\n",
      "Running Monte Carlo simulation number 170.\n",
      "Running Monte Carlo simulation number 180.\n",
      "Running Monte Carlo simulation number 190.\n",
      "Running Monte Carlo simulation number 200.\n",
      "Running Monte Carlo simulation number 210.\n",
      "Running Monte Carlo simulation number 220.\n",
      "Running Monte Carlo simulation number 230.\n",
      "Running Monte Carlo simulation number 240.\n",
      "Running Monte Carlo simulation number 250.\n",
      "Running Monte Carlo simulation number 260.\n",
      "Running Monte Carlo simulation number 270.\n",
      "Running Monte Carlo simulation number 280.\n",
      "Running Monte Carlo simulation number 290.\n",
      "Running Monte Carlo simulation number 300.\n",
      "Running Monte Carlo simulation number 310.\n",
      "Running Monte Carlo simulation number 320.\n",
      "Running Monte Carlo simulation number 330.\n",
      "Running Monte Carlo simulation number 340.\n",
      "Running Monte Carlo simulation number 350.\n",
      "Running Monte Carlo simulation number 360.\n",
      "Running Monte Carlo simulation number 370.\n",
      "Running Monte Carlo simulation number 380.\n",
      "Running Monte Carlo simulation number 390.\n",
      "Running Monte Carlo simulation number 400.\n",
      "Running Monte Carlo simulation number 410.\n",
      "Running Monte Carlo simulation number 420.\n",
      "Running Monte Carlo simulation number 430.\n",
      "Running Monte Carlo simulation number 440.\n",
      "Running Monte Carlo simulation number 450.\n",
      "Running Monte Carlo simulation number 460.\n",
      "Running Monte Carlo simulation number 470.\n",
      "Running Monte Carlo simulation number 480.\n",
      "Running Monte Carlo simulation number 490.\n"
     ]
    },
    {
     "data": {
      "text/html": [
       "<div>\n",
       "<style scoped>\n",
       "    .dataframe tbody tr th:only-of-type {\n",
       "        vertical-align: middle;\n",
       "    }\n",
       "\n",
       "    .dataframe tbody tr th {\n",
       "        vertical-align: top;\n",
       "    }\n",
       "\n",
       "    .dataframe thead th {\n",
       "        text-align: right;\n",
       "    }\n",
       "</style>\n",
       "<table border=\"1\" class=\"dataframe\">\n",
       "  <thead>\n",
       "    <tr style=\"text-align: right;\">\n",
       "      <th></th>\n",
       "      <th>0</th>\n",
       "      <th>1</th>\n",
       "      <th>2</th>\n",
       "      <th>3</th>\n",
       "      <th>4</th>\n",
       "      <th>5</th>\n",
       "      <th>6</th>\n",
       "      <th>7</th>\n",
       "      <th>8</th>\n",
       "      <th>9</th>\n",
       "      <th>...</th>\n",
       "      <th>490</th>\n",
       "      <th>491</th>\n",
       "      <th>492</th>\n",
       "      <th>493</th>\n",
       "      <th>494</th>\n",
       "      <th>495</th>\n",
       "      <th>496</th>\n",
       "      <th>497</th>\n",
       "      <th>498</th>\n",
       "      <th>499</th>\n",
       "    </tr>\n",
       "  </thead>\n",
       "  <tbody>\n",
       "    <tr>\n",
       "      <th>0</th>\n",
       "      <td>1.000000</td>\n",
       "      <td>1.000000</td>\n",
       "      <td>1.000000</td>\n",
       "      <td>1.000000</td>\n",
       "      <td>1.000000</td>\n",
       "      <td>1.000000</td>\n",
       "      <td>1.000000</td>\n",
       "      <td>1.000000</td>\n",
       "      <td>1.000000</td>\n",
       "      <td>1.000000</td>\n",
       "      <td>...</td>\n",
       "      <td>1.000000</td>\n",
       "      <td>1.000000</td>\n",
       "      <td>1.000000</td>\n",
       "      <td>1.000000</td>\n",
       "      <td>1.000000</td>\n",
       "      <td>1.000000</td>\n",
       "      <td>1.000000</td>\n",
       "      <td>1.000000</td>\n",
       "      <td>1.000000</td>\n",
       "      <td>1.000000</td>\n",
       "    </tr>\n",
       "    <tr>\n",
       "      <th>1</th>\n",
       "      <td>1.002912</td>\n",
       "      <td>1.008022</td>\n",
       "      <td>1.004878</td>\n",
       "      <td>1.002831</td>\n",
       "      <td>1.000662</td>\n",
       "      <td>1.010850</td>\n",
       "      <td>1.002991</td>\n",
       "      <td>1.002152</td>\n",
       "      <td>1.009526</td>\n",
       "      <td>1.005299</td>\n",
       "      <td>...</td>\n",
       "      <td>1.007634</td>\n",
       "      <td>0.997092</td>\n",
       "      <td>1.005011</td>\n",
       "      <td>0.996890</td>\n",
       "      <td>1.011717</td>\n",
       "      <td>1.005739</td>\n",
       "      <td>0.984005</td>\n",
       "      <td>1.012741</td>\n",
       "      <td>0.991516</td>\n",
       "      <td>0.985737</td>\n",
       "    </tr>\n",
       "    <tr>\n",
       "      <th>2</th>\n",
       "      <td>1.003968</td>\n",
       "      <td>1.028401</td>\n",
       "      <td>1.005532</td>\n",
       "      <td>0.995972</td>\n",
       "      <td>0.996826</td>\n",
       "      <td>1.017325</td>\n",
       "      <td>1.000499</td>\n",
       "      <td>1.003665</td>\n",
       "      <td>1.005704</td>\n",
       "      <td>1.000777</td>\n",
       "      <td>...</td>\n",
       "      <td>1.007679</td>\n",
       "      <td>0.988885</td>\n",
       "      <td>1.003723</td>\n",
       "      <td>0.992549</td>\n",
       "      <td>1.009860</td>\n",
       "      <td>0.998448</td>\n",
       "      <td>0.977962</td>\n",
       "      <td>1.030556</td>\n",
       "      <td>0.992064</td>\n",
       "      <td>0.994462</td>\n",
       "    </tr>\n",
       "    <tr>\n",
       "      <th>3</th>\n",
       "      <td>1.027532</td>\n",
       "      <td>1.016629</td>\n",
       "      <td>0.998961</td>\n",
       "      <td>0.985120</td>\n",
       "      <td>0.997838</td>\n",
       "      <td>1.021242</td>\n",
       "      <td>1.009626</td>\n",
       "      <td>1.008826</td>\n",
       "      <td>1.008422</td>\n",
       "      <td>0.992541</td>\n",
       "      <td>...</td>\n",
       "      <td>0.995686</td>\n",
       "      <td>0.977253</td>\n",
       "      <td>1.002571</td>\n",
       "      <td>0.984645</td>\n",
       "      <td>1.020250</td>\n",
       "      <td>1.016200</td>\n",
       "      <td>0.984205</td>\n",
       "      <td>1.043306</td>\n",
       "      <td>0.987540</td>\n",
       "      <td>1.005931</td>\n",
       "    </tr>\n",
       "    <tr>\n",
       "      <th>4</th>\n",
       "      <td>1.013574</td>\n",
       "      <td>1.012793</td>\n",
       "      <td>0.995224</td>\n",
       "      <td>0.995876</td>\n",
       "      <td>0.998755</td>\n",
       "      <td>1.017539</td>\n",
       "      <td>0.994258</td>\n",
       "      <td>1.007562</td>\n",
       "      <td>1.002859</td>\n",
       "      <td>0.987456</td>\n",
       "      <td>...</td>\n",
       "      <td>0.988416</td>\n",
       "      <td>0.977654</td>\n",
       "      <td>1.007652</td>\n",
       "      <td>0.983529</td>\n",
       "      <td>1.013142</td>\n",
       "      <td>1.016040</td>\n",
       "      <td>0.994411</td>\n",
       "      <td>1.052216</td>\n",
       "      <td>1.003570</td>\n",
       "      <td>1.000236</td>\n",
       "    </tr>\n",
       "    <tr>\n",
       "      <th>...</th>\n",
       "      <td>...</td>\n",
       "      <td>...</td>\n",
       "      <td>...</td>\n",
       "      <td>...</td>\n",
       "      <td>...</td>\n",
       "      <td>...</td>\n",
       "      <td>...</td>\n",
       "      <td>...</td>\n",
       "      <td>...</td>\n",
       "      <td>...</td>\n",
       "      <td>...</td>\n",
       "      <td>...</td>\n",
       "      <td>...</td>\n",
       "      <td>...</td>\n",
       "      <td>...</td>\n",
       "      <td>...</td>\n",
       "      <td>...</td>\n",
       "      <td>...</td>\n",
       "      <td>...</td>\n",
       "      <td>...</td>\n",
       "      <td>...</td>\n",
       "    </tr>\n",
       "    <tr>\n",
       "      <th>7556</th>\n",
       "      <td>69.620425</td>\n",
       "      <td>14.416671</td>\n",
       "      <td>69.658373</td>\n",
       "      <td>12.792112</td>\n",
       "      <td>15.732309</td>\n",
       "      <td>183.650495</td>\n",
       "      <td>31.180325</td>\n",
       "      <td>92.951461</td>\n",
       "      <td>46.861558</td>\n",
       "      <td>67.278394</td>\n",
       "      <td>...</td>\n",
       "      <td>12.509212</td>\n",
       "      <td>7.116944</td>\n",
       "      <td>23.616021</td>\n",
       "      <td>120.870546</td>\n",
       "      <td>10.425783</td>\n",
       "      <td>19.146665</td>\n",
       "      <td>46.878689</td>\n",
       "      <td>25.584369</td>\n",
       "      <td>9.337839</td>\n",
       "      <td>15.337517</td>\n",
       "    </tr>\n",
       "    <tr>\n",
       "      <th>7557</th>\n",
       "      <td>68.831848</td>\n",
       "      <td>14.575524</td>\n",
       "      <td>68.872021</td>\n",
       "      <td>12.738022</td>\n",
       "      <td>15.618955</td>\n",
       "      <td>185.815858</td>\n",
       "      <td>31.283579</td>\n",
       "      <td>92.696258</td>\n",
       "      <td>46.987736</td>\n",
       "      <td>67.319728</td>\n",
       "      <td>...</td>\n",
       "      <td>12.561133</td>\n",
       "      <td>7.025908</td>\n",
       "      <td>23.732751</td>\n",
       "      <td>120.131778</td>\n",
       "      <td>10.561013</td>\n",
       "      <td>19.040843</td>\n",
       "      <td>46.786656</td>\n",
       "      <td>25.382865</td>\n",
       "      <td>9.375500</td>\n",
       "      <td>15.536371</td>\n",
       "    </tr>\n",
       "    <tr>\n",
       "      <th>7558</th>\n",
       "      <td>68.825531</td>\n",
       "      <td>14.581030</td>\n",
       "      <td>68.567097</td>\n",
       "      <td>12.754042</td>\n",
       "      <td>15.397199</td>\n",
       "      <td>185.130578</td>\n",
       "      <td>31.337644</td>\n",
       "      <td>92.540180</td>\n",
       "      <td>46.456194</td>\n",
       "      <td>67.509242</td>\n",
       "      <td>...</td>\n",
       "      <td>12.529433</td>\n",
       "      <td>7.088676</td>\n",
       "      <td>23.633605</td>\n",
       "      <td>119.037447</td>\n",
       "      <td>10.496756</td>\n",
       "      <td>19.008496</td>\n",
       "      <td>47.131070</td>\n",
       "      <td>25.511609</td>\n",
       "      <td>9.487957</td>\n",
       "      <td>15.760632</td>\n",
       "    </tr>\n",
       "    <tr>\n",
       "      <th>7559</th>\n",
       "      <td>70.240525</td>\n",
       "      <td>14.588340</td>\n",
       "      <td>68.369925</td>\n",
       "      <td>12.680774</td>\n",
       "      <td>15.331660</td>\n",
       "      <td>182.519113</td>\n",
       "      <td>31.458227</td>\n",
       "      <td>93.469876</td>\n",
       "      <td>46.490782</td>\n",
       "      <td>67.483012</td>\n",
       "      <td>...</td>\n",
       "      <td>12.564546</td>\n",
       "      <td>7.116352</td>\n",
       "      <td>23.425709</td>\n",
       "      <td>118.579158</td>\n",
       "      <td>10.345883</td>\n",
       "      <td>18.911918</td>\n",
       "      <td>47.021257</td>\n",
       "      <td>25.576285</td>\n",
       "      <td>9.450345</td>\n",
       "      <td>15.836534</td>\n",
       "    </tr>\n",
       "    <tr>\n",
       "      <th>7560</th>\n",
       "      <td>71.601040</td>\n",
       "      <td>14.705377</td>\n",
       "      <td>67.961610</td>\n",
       "      <td>12.952717</td>\n",
       "      <td>15.369879</td>\n",
       "      <td>182.840262</td>\n",
       "      <td>31.418434</td>\n",
       "      <td>93.799235</td>\n",
       "      <td>46.221847</td>\n",
       "      <td>67.436400</td>\n",
       "      <td>...</td>\n",
       "      <td>12.583561</td>\n",
       "      <td>7.182073</td>\n",
       "      <td>23.154847</td>\n",
       "      <td>119.573024</td>\n",
       "      <td>10.476369</td>\n",
       "      <td>18.748164</td>\n",
       "      <td>47.168212</td>\n",
       "      <td>25.775113</td>\n",
       "      <td>9.610760</td>\n",
       "      <td>15.842440</td>\n",
       "    </tr>\n",
       "  </tbody>\n",
       "</table>\n",
       "<p>7561 rows × 500 columns</p>\n",
       "</div>"
      ],
      "text/plain": [
       "            0          1          2          3          4           5    \\\n",
       "0      1.000000   1.000000   1.000000   1.000000   1.000000    1.000000   \n",
       "1      1.002912   1.008022   1.004878   1.002831   1.000662    1.010850   \n",
       "2      1.003968   1.028401   1.005532   0.995972   0.996826    1.017325   \n",
       "3      1.027532   1.016629   0.998961   0.985120   0.997838    1.021242   \n",
       "4      1.013574   1.012793   0.995224   0.995876   0.998755    1.017539   \n",
       "...         ...        ...        ...        ...        ...         ...   \n",
       "7556  69.620425  14.416671  69.658373  12.792112  15.732309  183.650495   \n",
       "7557  68.831848  14.575524  68.872021  12.738022  15.618955  185.815858   \n",
       "7558  68.825531  14.581030  68.567097  12.754042  15.397199  185.130578   \n",
       "7559  70.240525  14.588340  68.369925  12.680774  15.331660  182.519113   \n",
       "7560  71.601040  14.705377  67.961610  12.952717  15.369879  182.840262   \n",
       "\n",
       "            6          7          8          9    ...        490       491  \\\n",
       "0      1.000000   1.000000   1.000000   1.000000  ...   1.000000  1.000000   \n",
       "1      1.002991   1.002152   1.009526   1.005299  ...   1.007634  0.997092   \n",
       "2      1.000499   1.003665   1.005704   1.000777  ...   1.007679  0.988885   \n",
       "3      1.009626   1.008826   1.008422   0.992541  ...   0.995686  0.977253   \n",
       "4      0.994258   1.007562   1.002859   0.987456  ...   0.988416  0.977654   \n",
       "...         ...        ...        ...        ...  ...        ...       ...   \n",
       "7556  31.180325  92.951461  46.861558  67.278394  ...  12.509212  7.116944   \n",
       "7557  31.283579  92.696258  46.987736  67.319728  ...  12.561133  7.025908   \n",
       "7558  31.337644  92.540180  46.456194  67.509242  ...  12.529433  7.088676   \n",
       "7559  31.458227  93.469876  46.490782  67.483012  ...  12.564546  7.116352   \n",
       "7560  31.418434  93.799235  46.221847  67.436400  ...  12.583561  7.182073   \n",
       "\n",
       "            492         493        494        495        496        497  \\\n",
       "0      1.000000    1.000000   1.000000   1.000000   1.000000   1.000000   \n",
       "1      1.005011    0.996890   1.011717   1.005739   0.984005   1.012741   \n",
       "2      1.003723    0.992549   1.009860   0.998448   0.977962   1.030556   \n",
       "3      1.002571    0.984645   1.020250   1.016200   0.984205   1.043306   \n",
       "4      1.007652    0.983529   1.013142   1.016040   0.994411   1.052216   \n",
       "...         ...         ...        ...        ...        ...        ...   \n",
       "7556  23.616021  120.870546  10.425783  19.146665  46.878689  25.584369   \n",
       "7557  23.732751  120.131778  10.561013  19.040843  46.786656  25.382865   \n",
       "7558  23.633605  119.037447  10.496756  19.008496  47.131070  25.511609   \n",
       "7559  23.425709  118.579158  10.345883  18.911918  47.021257  25.576285   \n",
       "7560  23.154847  119.573024  10.476369  18.748164  47.168212  25.775113   \n",
       "\n",
       "           498        499  \n",
       "0     1.000000   1.000000  \n",
       "1     0.991516   0.985737  \n",
       "2     0.992064   0.994462  \n",
       "3     0.987540   1.005931  \n",
       "4     1.003570   1.000236  \n",
       "...        ...        ...  \n",
       "7556  9.337839  15.337517  \n",
       "7557  9.375500  15.536371  \n",
       "7558  9.487957  15.760632  \n",
       "7559  9.450345  15.836534  \n",
       "7560  9.610760  15.842440  \n",
       "\n",
       "[7561 rows x 500 columns]"
      ]
     },
     "execution_count": 117,
     "metadata": {},
     "output_type": "execute_result"
    }
   ],
   "source": [
    "# Run the Monte Carlo simulation to forecast 30 years cumulative returns\n",
    "mc_30year.calc_cumulative_return()"
   ]
  },
  {
   "cell_type": "code",
   "execution_count": 122,
   "metadata": {},
   "outputs": [
    {
     "data": {
      "image/png": "[encoded data removed]",
      "text/plain": [
       "<Figure size 432x288 with 1 Axes>"
      ]
     },
     "metadata": {
      "needs_background": "light"
     },
     "output_type": "display_data"
    }
   ],
   "source": [
    "# Visualize the 30-year Monte Carlo simulation with an\n",
    "# overlay line plot\n",
    "line_plot = mc_30year.plot_simulation()\n",
    "#save the plot for document display\n",
    "line_plot.get_figure().savefig('Images/mc_30year_sim_plot.png', bbox_inches='tight')"
   ]
  },
  {
   "cell_type": "markdown",
   "metadata": {},
   "source": [
    "#### Plot the probability distribution of the Monte Carlo simulation."
   ]
  },
  {
   "cell_type": "code",
   "execution_count": 124,
   "metadata": {},
   "outputs": [
    {
     "data": {
      "image/png": "[encoded data removed]",
      "text/plain": [
       "<Figure size 432x288 with 1 Axes>"
      ]
     },
     "metadata": {
      "needs_background": "light"
     },
     "output_type": "display_data"
    }
   ],
   "source": [
    "# Visualize the probability distribution of the 30-year Monte Carlo simulation \n",
    "# by plotting a histogram\n",
    "dist_plot = mc_30year.plot_distribution()\n",
    "#save the plot for document display\n",
    "dist_plot.get_figure().savefig('Images/mc_30year_dist_plot.png', bbox_inches='tight')"
   ]
  },
  {
   "cell_type": "markdown",
   "metadata": {},
   "source": [
    "#### Generate the summary statistics for the Monte Carlo simulation."
   ]
  },
  {
   "cell_type": "code",
   "execution_count": 126,
   "metadata": {},
   "outputs": [
    {
     "name": "stdout",
     "output_type": "stream",
     "text": [
      "count           500.000000\n",
      "mean             43.691614\n",
      "std              43.956561\n",
      "min               4.920825\n",
      "25%              18.502440\n",
      "50%              30.889208\n",
      "75%              52.174927\n",
      "max             450.571783\n",
      "95% CI Lower      7.741125\n",
      "95% CI Upper    154.502538\n",
      "Name: 7560, dtype: float64\n"
     ]
    }
   ],
   "source": [
    "# Summary statistics from the 30-year Monte Carlo simulation results\n",
    "mc30_summary = mc_30year.summarize_cumulative_return()\n",
    "\n",
    "# Review the 30-year Monte Carlo summary statistics\n",
    "print(mc30_summary)"
   ]
  },
  {
   "cell_type": "markdown",
   "metadata": {
    "jp-MarkdownHeadingCollapsed": true,
    "tags": []
   },
   "source": [
    "### Analyze the Retirement Portfolio Forecasts"
   ]
  },
  {
   "cell_type": "code",
   "execution_count": 127,
   "metadata": {},
   "outputs": [
    {
     "name": "stdout",
     "output_type": "stream",
     "text": [
      "The current balance of the stock and bond portion of the portfolio = $72143.6\n",
      "The lower bounds for the expected value of the portfolio with a 95% confidence interval is 7.741125464619856\n",
      "The upper bounds for the expected value of the portfolio with a 95% confidence interval is 154.5025384668485\n"
     ]
    }
   ],
   "source": [
    "# Print the current balance of the stock and bond portion of the members portfolio\n",
    "print(f'The current balance of the stock and bond portion of the portfolio = ${total_stocks_bonds}')\n",
    "\n",
    "investment_amount = total_stocks_bonds\n",
    "ci_lower = mc30_summary[8]\n",
    "ci_upper = mc30_summary[9]\n",
    "\n",
    "print(f'The lower bounds for the expected value of the portfolio with a 95% confidence interval is {ci_lower}')\n",
    "print(f'The upper bounds for the expected value of the portfolio with a 95% confidence interval is {ci_upper}')"
   ]
  },
  {
   "cell_type": "code",
   "execution_count": 129,
   "metadata": {},
   "outputs": [
    {
     "name": "stdout",
     "output_type": "stream",
     "text": [
      "The range of possible outcomes with a 95% confidence level for the current stock/bond portfolio\n",
      "is between $558472.66 and $11146369.33\n"
     ]
    }
   ],
   "source": [
    "# Use the lower and upper `95%` confidence intervals to calculate the range of the possible outcomes for the current stock/bond portfolio\n",
    "ci_lower_thirty_cumulative_return = round(ci_lower * investment_amount, 2)\n",
    "ci_upper_thirty_cumulative_return = round(ci_upper * investment_amount, 2)\n",
    "\n",
    "# Print the result of your calculations\n",
    "print(f'The range of possible outcomes with a 95% confidence level for the current stock/bond portfolio')\n",
    "print(f'is between ${ci_lower_thirty_cumulative_return} and ${ci_upper_thirty_cumulative_return}')\n"
   ]
  },
  {
   "cell_type": "markdown",
   "metadata": {},
   "source": [
    "### Forecast Cumulative Returns in 10 Years\n",
    "\n",
    "Adjust the retirement portfolio and run a new Monte Carlo simulation to find out if the changes will allow members to retire earlier."
   ]
  },
  {
   "cell_type": "code",
   "execution_count": 130,
   "metadata": {},
   "outputs": [
    {
     "data": {
      "text/html": [
       "<div>\n",
       "<style scoped>\n",
       "    .dataframe tbody tr th:only-of-type {\n",
       "        vertical-align: middle;\n",
       "    }\n",
       "\n",
       "    .dataframe tbody tr th {\n",
       "        vertical-align: top;\n",
       "    }\n",
       "\n",
       "    .dataframe thead tr th {\n",
       "        text-align: left;\n",
       "    }\n",
       "\n",
       "    .dataframe thead tr:last-of-type th {\n",
       "        text-align: right;\n",
       "    }\n",
       "</style>\n",
       "<table border=\"1\" class=\"dataframe\">\n",
       "  <thead>\n",
       "    <tr>\n",
       "      <th></th>\n",
       "      <th colspan=\"6\" halign=\"left\">AGG</th>\n",
       "      <th colspan=\"6\" halign=\"left\">SPY</th>\n",
       "    </tr>\n",
       "    <tr>\n",
       "      <th></th>\n",
       "      <th>open</th>\n",
       "      <th>high</th>\n",
       "      <th>low</th>\n",
       "      <th>close</th>\n",
       "      <th>volume</th>\n",
       "      <th>daily_return</th>\n",
       "      <th>open</th>\n",
       "      <th>high</th>\n",
       "      <th>low</th>\n",
       "      <th>close</th>\n",
       "      <th>volume</th>\n",
       "      <th>daily_return</th>\n",
       "    </tr>\n",
       "    <tr>\n",
       "      <th>time</th>\n",
       "      <th></th>\n",
       "      <th></th>\n",
       "      <th></th>\n",
       "      <th></th>\n",
       "      <th></th>\n",
       "      <th></th>\n",
       "      <th></th>\n",
       "      <th></th>\n",
       "      <th></th>\n",
       "      <th></th>\n",
       "      <th></th>\n",
       "      <th></th>\n",
       "    </tr>\n",
       "  </thead>\n",
       "  <tbody>\n",
       "    <tr>\n",
       "      <th>2019-02-04 00:00:00-05:00</th>\n",
       "      <td>106.83</td>\n",
       "      <td>106.9000</td>\n",
       "      <td>106.770</td>\n",
       "      <td>106.8950</td>\n",
       "      <td>9790488</td>\n",
       "      <td>NaN</td>\n",
       "      <td>270.11</td>\n",
       "      <td>271.8000</td>\n",
       "      <td>269.36</td>\n",
       "      <td>271.78</td>\n",
       "      <td>46985797</td>\n",
       "      <td>NaN</td>\n",
       "    </tr>\n",
       "    <tr>\n",
       "      <th>2019-02-05 00:00:00-05:00</th>\n",
       "      <td>106.95</td>\n",
       "      <td>107.1400</td>\n",
       "      <td>106.950</td>\n",
       "      <td>107.0900</td>\n",
       "      <td>4918385</td>\n",
       "      <td>0.001824</td>\n",
       "      <td>272.44</td>\n",
       "      <td>273.4400</td>\n",
       "      <td>271.88</td>\n",
       "      <td>273.13</td>\n",
       "      <td>61540042</td>\n",
       "      <td>0.004967</td>\n",
       "    </tr>\n",
       "    <tr>\n",
       "      <th>2019-02-06 00:00:00-05:00</th>\n",
       "      <td>107.20</td>\n",
       "      <td>107.2200</td>\n",
       "      <td>106.985</td>\n",
       "      <td>107.0441</td>\n",
       "      <td>6022187</td>\n",
       "      <td>-0.000429</td>\n",
       "      <td>272.79</td>\n",
       "      <td>273.3400</td>\n",
       "      <td>271.92</td>\n",
       "      <td>272.70</td>\n",
       "      <td>43446324</td>\n",
       "      <td>-0.001574</td>\n",
       "    </tr>\n",
       "    <tr>\n",
       "      <th>2019-02-07 00:00:00-05:00</th>\n",
       "      <td>107.15</td>\n",
       "      <td>107.1983</td>\n",
       "      <td>107.030</td>\n",
       "      <td>107.1500</td>\n",
       "      <td>3080898</td>\n",
       "      <td>0.000989</td>\n",
       "      <td>270.94</td>\n",
       "      <td>271.5500</td>\n",
       "      <td>268.29</td>\n",
       "      <td>269.97</td>\n",
       "      <td>83380785</td>\n",
       "      <td>-0.010011</td>\n",
       "    </tr>\n",
       "    <tr>\n",
       "      <th>2019-02-08 00:00:00-05:00</th>\n",
       "      <td>107.17</td>\n",
       "      <td>107.3800</td>\n",
       "      <td>107.170</td>\n",
       "      <td>107.3550</td>\n",
       "      <td>2988674</td>\n",
       "      <td>0.001913</td>\n",
       "      <td>268.75</td>\n",
       "      <td>270.2874</td>\n",
       "      <td>267.83</td>\n",
       "      <td>270.08</td>\n",
       "      <td>63409417</td>\n",
       "      <td>0.000407</td>\n",
       "    </tr>\n",
       "  </tbody>\n",
       "</table>\n",
       "</div>"
      ],
      "text/plain": [
       "                              AGG                                        \\\n",
       "                             open      high      low     close   volume   \n",
       "time                                                                      \n",
       "2019-02-04 00:00:00-05:00  106.83  106.9000  106.770  106.8950  9790488   \n",
       "2019-02-05 00:00:00-05:00  106.95  107.1400  106.950  107.0900  4918385   \n",
       "2019-02-06 00:00:00-05:00  107.20  107.2200  106.985  107.0441  6022187   \n",
       "2019-02-07 00:00:00-05:00  107.15  107.1983  107.030  107.1500  3080898   \n",
       "2019-02-08 00:00:00-05:00  107.17  107.3800  107.170  107.3550  2988674   \n",
       "\n",
       "                                           SPY                            \\\n",
       "                          daily_return    open      high     low   close   \n",
       "time                                                                       \n",
       "2019-02-04 00:00:00-05:00          NaN  270.11  271.8000  269.36  271.78   \n",
       "2019-02-05 00:00:00-05:00     0.001824  272.44  273.4400  271.88  273.13   \n",
       "2019-02-06 00:00:00-05:00    -0.000429  272.79  273.3400  271.92  272.70   \n",
       "2019-02-07 00:00:00-05:00     0.000989  270.94  271.5500  268.29  269.97   \n",
       "2019-02-08 00:00:00-05:00     0.001913  268.75  270.2874  267.83  270.08   \n",
       "\n",
       "                                                  \n",
       "                             volume daily_return  \n",
       "time                                              \n",
       "2019-02-04 00:00:00-05:00  46985797          NaN  \n",
       "2019-02-05 00:00:00-05:00  61540042     0.004967  \n",
       "2019-02-06 00:00:00-05:00  43446324    -0.001574  \n",
       "2019-02-07 00:00:00-05:00  83380785    -0.010011  \n",
       "2019-02-08 00:00:00-05:00  63409417     0.000407  "
      ]
     },
     "execution_count": 130,
     "metadata": {},
     "output_type": "execute_result"
    }
   ],
   "source": [
    "# Configure a Monte Carlo simulation to forecast 10 years cumulative returns\n",
    "# The weights should be split 20% to AGG and 80% to SPY.\n",
    "# Run 500 samples.\n",
    "mc_10year = MCSimulation(\n",
    "    portfolio_data = stock_df,\n",
    "    weights = [.2, .8],\n",
    "    num_simulation = 500,\n",
    "    num_trading_days = 252 * 10\n",
    ")\n",
    "\n",
    "# Review the simulation input data\n",
    "mc_10year.portfolio_data.head()"
   ]
  },
  {
   "cell_type": "code",
   "execution_count": 131,
   "metadata": {},
   "outputs": [
    {
     "name": "stdout",
     "output_type": "stream",
     "text": [
      "Running Monte Carlo simulation number 0.\n",
      "Running Monte Carlo simulation number 10.\n",
      "Running Monte Carlo simulation number 20.\n",
      "Running Monte Carlo simulation number 30.\n",
      "Running Monte Carlo simulation number 40.\n",
      "Running Monte Carlo simulation number 50.\n",
      "Running Monte Carlo simulation number 60.\n",
      "Running Monte Carlo simulation number 70.\n",
      "Running Monte Carlo simulation number 80.\n",
      "Running Monte Carlo simulation number 90.\n",
      "Running Monte Carlo simulation number 100.\n"
     ]
    },
    {
     "name": "stderr",
     "output_type": "stream",
     "text": [
      "/Users/rachelbates/Desktop/FinTech_Workspace/Homework_Activities/Module_5/financial_planning_tools/MCForecastTools.py:117: PerformanceWarning: DataFrame is highly fragmented.  This is usually the result of calling `frame.insert` many times, which has poor performance.  Consider joining all columns at once using pd.concat(axis=1) instead.  To get a de-fragmented frame, use `newframe = frame.copy()`\n",
      "  portfolio_cumulative_returns[n] = (1 + sim_df.fillna(0)).cumprod()\n"
     ]
    },
    {
     "name": "stdout",
     "output_type": "stream",
     "text": [
      "Running Monte Carlo simulation number 110.\n",
      "Running Monte Carlo simulation number 120.\n",
      "Running Monte Carlo simulation number 130.\n",
      "Running Monte Carlo simulation number 140.\n",
      "Running Monte Carlo simulation number 150.\n",
      "Running Monte Carlo simulation number 160.\n",
      "Running Monte Carlo simulation number 170.\n",
      "Running Monte Carlo simulation number 180.\n",
      "Running Monte Carlo simulation number 190.\n",
      "Running Monte Carlo simulation number 200.\n",
      "Running Monte Carlo simulation number 210.\n",
      "Running Monte Carlo simulation number 220.\n",
      "Running Monte Carlo simulation number 230.\n",
      "Running Monte Carlo simulation number 240.\n",
      "Running Monte Carlo simulation number 250.\n",
      "Running Monte Carlo simulation number 260.\n",
      "Running Monte Carlo simulation number 270.\n",
      "Running Monte Carlo simulation number 280.\n",
      "Running Monte Carlo simulation number 290.\n",
      "Running Monte Carlo simulation number 300.\n",
      "Running Monte Carlo simulation number 310.\n",
      "Running Monte Carlo simulation number 320.\n",
      "Running Monte Carlo simulation number 330.\n",
      "Running Monte Carlo simulation number 340.\n",
      "Running Monte Carlo simulation number 350.\n",
      "Running Monte Carlo simulation number 360.\n",
      "Running Monte Carlo simulation number 370.\n",
      "Running Monte Carlo simulation number 380.\n",
      "Running Monte Carlo simulation number 390.\n",
      "Running Monte Carlo simulation number 400.\n",
      "Running Monte Carlo simulation number 410.\n",
      "Running Monte Carlo simulation number 420.\n",
      "Running Monte Carlo simulation number 430.\n",
      "Running Monte Carlo simulation number 440.\n",
      "Running Monte Carlo simulation number 450.\n",
      "Running Monte Carlo simulation number 460.\n",
      "Running Monte Carlo simulation number 470.\n",
      "Running Monte Carlo simulation number 480.\n",
      "Running Monte Carlo simulation number 490.\n"
     ]
    },
    {
     "data": {
      "text/html": [
       "<div>\n",
       "<style scoped>\n",
       "    .dataframe tbody tr th:only-of-type {\n",
       "        vertical-align: middle;\n",
       "    }\n",
       "\n",
       "    .dataframe tbody tr th {\n",
       "        vertical-align: top;\n",
       "    }\n",
       "\n",
       "    .dataframe thead th {\n",
       "        text-align: right;\n",
       "    }\n",
       "</style>\n",
       "<table border=\"1\" class=\"dataframe\">\n",
       "  <thead>\n",
       "    <tr style=\"text-align: right;\">\n",
       "      <th></th>\n",
       "      <th>0</th>\n",
       "      <th>1</th>\n",
       "      <th>2</th>\n",
       "      <th>3</th>\n",
       "      <th>4</th>\n",
       "      <th>5</th>\n",
       "      <th>6</th>\n",
       "      <th>7</th>\n",
       "      <th>8</th>\n",
       "      <th>9</th>\n",
       "      <th>...</th>\n",
       "      <th>490</th>\n",
       "      <th>491</th>\n",
       "      <th>492</th>\n",
       "      <th>493</th>\n",
       "      <th>494</th>\n",
       "      <th>495</th>\n",
       "      <th>496</th>\n",
       "      <th>497</th>\n",
       "      <th>498</th>\n",
       "      <th>499</th>\n",
       "    </tr>\n",
       "  </thead>\n",
       "  <tbody>\n",
       "    <tr>\n",
       "      <th>0</th>\n",
       "      <td>1.000000</td>\n",
       "      <td>1.000000</td>\n",
       "      <td>1.000000</td>\n",
       "      <td>1.000000</td>\n",
       "      <td>1.000000</td>\n",
       "      <td>1.000000</td>\n",
       "      <td>1.000000</td>\n",
       "      <td>1.000000</td>\n",
       "      <td>1.000000</td>\n",
       "      <td>1.000000</td>\n",
       "      <td>...</td>\n",
       "      <td>1.000000</td>\n",
       "      <td>1.000000</td>\n",
       "      <td>1.000000</td>\n",
       "      <td>1.000000</td>\n",
       "      <td>1.000000</td>\n",
       "      <td>1.000000</td>\n",
       "      <td>1.000000</td>\n",
       "      <td>1.000000</td>\n",
       "      <td>1.000000</td>\n",
       "      <td>1.000000</td>\n",
       "    </tr>\n",
       "    <tr>\n",
       "      <th>1</th>\n",
       "      <td>0.992158</td>\n",
       "      <td>0.992698</td>\n",
       "      <td>0.988924</td>\n",
       "      <td>1.007177</td>\n",
       "      <td>1.005896</td>\n",
       "      <td>1.000214</td>\n",
       "      <td>1.005966</td>\n",
       "      <td>0.999027</td>\n",
       "      <td>1.021105</td>\n",
       "      <td>0.984404</td>\n",
       "      <td>...</td>\n",
       "      <td>1.000431</td>\n",
       "      <td>0.998328</td>\n",
       "      <td>1.007006</td>\n",
       "      <td>1.018825</td>\n",
       "      <td>0.994549</td>\n",
       "      <td>0.989746</td>\n",
       "      <td>1.002513</td>\n",
       "      <td>0.980925</td>\n",
       "      <td>0.997216</td>\n",
       "      <td>1.007789</td>\n",
       "    </tr>\n",
       "    <tr>\n",
       "      <th>2</th>\n",
       "      <td>0.989941</td>\n",
       "      <td>1.004554</td>\n",
       "      <td>0.990890</td>\n",
       "      <td>1.006473</td>\n",
       "      <td>1.003091</td>\n",
       "      <td>1.005615</td>\n",
       "      <td>1.010866</td>\n",
       "      <td>0.983695</td>\n",
       "      <td>1.054666</td>\n",
       "      <td>0.989700</td>\n",
       "      <td>...</td>\n",
       "      <td>0.998280</td>\n",
       "      <td>0.999901</td>\n",
       "      <td>1.011128</td>\n",
       "      <td>1.028512</td>\n",
       "      <td>0.976986</td>\n",
       "      <td>1.000192</td>\n",
       "      <td>1.002020</td>\n",
       "      <td>0.989905</td>\n",
       "      <td>1.003385</td>\n",
       "      <td>0.978391</td>\n",
       "    </tr>\n",
       "    <tr>\n",
       "      <th>3</th>\n",
       "      <td>0.987934</td>\n",
       "      <td>0.997865</td>\n",
       "      <td>1.000154</td>\n",
       "      <td>1.021704</td>\n",
       "      <td>0.999104</td>\n",
       "      <td>1.028564</td>\n",
       "      <td>1.023403</td>\n",
       "      <td>0.983712</td>\n",
       "      <td>1.052889</td>\n",
       "      <td>0.973257</td>\n",
       "      <td>...</td>\n",
       "      <td>1.005782</td>\n",
       "      <td>0.993995</td>\n",
       "      <td>1.012650</td>\n",
       "      <td>1.046731</td>\n",
       "      <td>0.971047</td>\n",
       "      <td>0.999593</td>\n",
       "      <td>1.016865</td>\n",
       "      <td>0.993208</td>\n",
       "      <td>1.020087</td>\n",
       "      <td>0.972519</td>\n",
       "    </tr>\n",
       "    <tr>\n",
       "      <th>4</th>\n",
       "      <td>0.989401</td>\n",
       "      <td>1.003940</td>\n",
       "      <td>1.001249</td>\n",
       "      <td>1.035367</td>\n",
       "      <td>0.989960</td>\n",
       "      <td>1.002627</td>\n",
       "      <td>1.016742</td>\n",
       "      <td>1.012365</td>\n",
       "      <td>1.055241</td>\n",
       "      <td>0.974793</td>\n",
       "      <td>...</td>\n",
       "      <td>1.000924</td>\n",
       "      <td>0.973536</td>\n",
       "      <td>1.011529</td>\n",
       "      <td>1.034987</td>\n",
       "      <td>0.960286</td>\n",
       "      <td>0.980681</td>\n",
       "      <td>1.026344</td>\n",
       "      <td>0.998790</td>\n",
       "      <td>1.016645</td>\n",
       "      <td>0.955042</td>\n",
       "    </tr>\n",
       "    <tr>\n",
       "      <th>...</th>\n",
       "      <td>...</td>\n",
       "      <td>...</td>\n",
       "      <td>...</td>\n",
       "      <td>...</td>\n",
       "      <td>...</td>\n",
       "      <td>...</td>\n",
       "      <td>...</td>\n",
       "      <td>...</td>\n",
       "      <td>...</td>\n",
       "      <td>...</td>\n",
       "      <td>...</td>\n",
       "      <td>...</td>\n",
       "      <td>...</td>\n",
       "      <td>...</td>\n",
       "      <td>...</td>\n",
       "      <td>...</td>\n",
       "      <td>...</td>\n",
       "      <td>...</td>\n",
       "      <td>...</td>\n",
       "      <td>...</td>\n",
       "      <td>...</td>\n",
       "    </tr>\n",
       "    <tr>\n",
       "      <th>2516</th>\n",
       "      <td>2.196505</td>\n",
       "      <td>8.803265</td>\n",
       "      <td>3.768020</td>\n",
       "      <td>3.486199</td>\n",
       "      <td>3.751314</td>\n",
       "      <td>7.278087</td>\n",
       "      <td>2.660198</td>\n",
       "      <td>6.022300</td>\n",
       "      <td>1.555028</td>\n",
       "      <td>3.776182</td>\n",
       "      <td>...</td>\n",
       "      <td>2.384058</td>\n",
       "      <td>11.875309</td>\n",
       "      <td>3.116321</td>\n",
       "      <td>6.324582</td>\n",
       "      <td>2.622314</td>\n",
       "      <td>2.700168</td>\n",
       "      <td>5.935880</td>\n",
       "      <td>14.656982</td>\n",
       "      <td>7.692571</td>\n",
       "      <td>6.190263</td>\n",
       "    </tr>\n",
       "    <tr>\n",
       "      <th>2517</th>\n",
       "      <td>2.238977</td>\n",
       "      <td>8.882082</td>\n",
       "      <td>3.798023</td>\n",
       "      <td>3.402969</td>\n",
       "      <td>3.727556</td>\n",
       "      <td>7.382598</td>\n",
       "      <td>2.653792</td>\n",
       "      <td>6.067784</td>\n",
       "      <td>1.561103</td>\n",
       "      <td>3.721847</td>\n",
       "      <td>...</td>\n",
       "      <td>2.389303</td>\n",
       "      <td>11.899433</td>\n",
       "      <td>3.204150</td>\n",
       "      <td>6.356967</td>\n",
       "      <td>2.617187</td>\n",
       "      <td>2.702283</td>\n",
       "      <td>5.832842</td>\n",
       "      <td>14.652923</td>\n",
       "      <td>7.768075</td>\n",
       "      <td>6.219195</td>\n",
       "    </tr>\n",
       "    <tr>\n",
       "      <th>2518</th>\n",
       "      <td>2.236746</td>\n",
       "      <td>8.801450</td>\n",
       "      <td>3.829949</td>\n",
       "      <td>3.428365</td>\n",
       "      <td>3.808270</td>\n",
       "      <td>7.299244</td>\n",
       "      <td>2.651567</td>\n",
       "      <td>6.173065</td>\n",
       "      <td>1.533747</td>\n",
       "      <td>3.728619</td>\n",
       "      <td>...</td>\n",
       "      <td>2.405498</td>\n",
       "      <td>11.887769</td>\n",
       "      <td>3.279459</td>\n",
       "      <td>6.432148</td>\n",
       "      <td>2.589829</td>\n",
       "      <td>2.660866</td>\n",
       "      <td>5.900929</td>\n",
       "      <td>14.913592</td>\n",
       "      <td>7.627547</td>\n",
       "      <td>6.175240</td>\n",
       "    </tr>\n",
       "    <tr>\n",
       "      <th>2519</th>\n",
       "      <td>2.227099</td>\n",
       "      <td>8.766579</td>\n",
       "      <td>3.871415</td>\n",
       "      <td>3.448606</td>\n",
       "      <td>3.782516</td>\n",
       "      <td>7.242142</td>\n",
       "      <td>2.618583</td>\n",
       "      <td>6.204674</td>\n",
       "      <td>1.548328</td>\n",
       "      <td>3.726378</td>\n",
       "      <td>...</td>\n",
       "      <td>2.395135</td>\n",
       "      <td>11.659495</td>\n",
       "      <td>3.284401</td>\n",
       "      <td>6.362340</td>\n",
       "      <td>2.582682</td>\n",
       "      <td>2.641320</td>\n",
       "      <td>5.960777</td>\n",
       "      <td>15.082737</td>\n",
       "      <td>7.550930</td>\n",
       "      <td>6.203648</td>\n",
       "    </tr>\n",
       "    <tr>\n",
       "      <th>2520</th>\n",
       "      <td>2.245348</td>\n",
       "      <td>8.794819</td>\n",
       "      <td>3.814943</td>\n",
       "      <td>3.489085</td>\n",
       "      <td>3.720321</td>\n",
       "      <td>7.221256</td>\n",
       "      <td>2.645349</td>\n",
       "      <td>6.256695</td>\n",
       "      <td>1.565859</td>\n",
       "      <td>3.785840</td>\n",
       "      <td>...</td>\n",
       "      <td>2.394676</td>\n",
       "      <td>11.756844</td>\n",
       "      <td>3.315034</td>\n",
       "      <td>6.274281</td>\n",
       "      <td>2.621483</td>\n",
       "      <td>2.668209</td>\n",
       "      <td>6.039240</td>\n",
       "      <td>14.941450</td>\n",
       "      <td>7.470439</td>\n",
       "      <td>6.146990</td>\n",
       "    </tr>\n",
       "  </tbody>\n",
       "</table>\n",
       "<p>2521 rows × 500 columns</p>\n",
       "</div>"
      ],
      "text/plain": [
       "           0         1         2         3         4         5         6    \\\n",
       "0     1.000000  1.000000  1.000000  1.000000  1.000000  1.000000  1.000000   \n",
       "1     0.992158  0.992698  0.988924  1.007177  1.005896  1.000214  1.005966   \n",
       "2     0.989941  1.004554  0.990890  1.006473  1.003091  1.005615  1.010866   \n",
       "3     0.987934  0.997865  1.000154  1.021704  0.999104  1.028564  1.023403   \n",
       "4     0.989401  1.003940  1.001249  1.035367  0.989960  1.002627  1.016742   \n",
       "...        ...       ...       ...       ...       ...       ...       ...   \n",
       "2516  2.196505  8.803265  3.768020  3.486199  3.751314  7.278087  2.660198   \n",
       "2517  2.238977  8.882082  3.798023  3.402969  3.727556  7.382598  2.653792   \n",
       "2518  2.236746  8.801450  3.829949  3.428365  3.808270  7.299244  2.651567   \n",
       "2519  2.227099  8.766579  3.871415  3.448606  3.782516  7.242142  2.618583   \n",
       "2520  2.245348  8.794819  3.814943  3.489085  3.720321  7.221256  2.645349   \n",
       "\n",
       "           7         8         9    ...       490        491       492  \\\n",
       "0     1.000000  1.000000  1.000000  ...  1.000000   1.000000  1.000000   \n",
       "1     0.999027  1.021105  0.984404  ...  1.000431   0.998328  1.007006   \n",
       "2     0.983695  1.054666  0.989700  ...  0.998280   0.999901  1.011128   \n",
       "3     0.983712  1.052889  0.973257  ...  1.005782   0.993995  1.012650   \n",
       "4     1.012365  1.055241  0.974793  ...  1.000924   0.973536  1.011529   \n",
       "...        ...       ...       ...  ...       ...        ...       ...   \n",
       "2516  6.022300  1.555028  3.776182  ...  2.384058  11.875309  3.116321   \n",
       "2517  6.067784  1.561103  3.721847  ...  2.389303  11.899433  3.204150   \n",
       "2518  6.173065  1.533747  3.728619  ...  2.405498  11.887769  3.279459   \n",
       "2519  6.204674  1.548328  3.726378  ...  2.395135  11.659495  3.284401   \n",
       "2520  6.256695  1.565859  3.785840  ...  2.394676  11.756844  3.315034   \n",
       "\n",
       "           493       494       495       496        497       498       499  \n",
       "0     1.000000  1.000000  1.000000  1.000000   1.000000  1.000000  1.000000  \n",
       "1     1.018825  0.994549  0.989746  1.002513   0.980925  0.997216  1.007789  \n",
       "2     1.028512  0.976986  1.000192  1.002020   0.989905  1.003385  0.978391  \n",
       "3     1.046731  0.971047  0.999593  1.016865   0.993208  1.020087  0.972519  \n",
       "4     1.034987  0.960286  0.980681  1.026344   0.998790  1.016645  0.955042  \n",
       "...        ...       ...       ...       ...        ...       ...       ...  \n",
       "2516  6.324582  2.622314  2.700168  5.935880  14.656982  7.692571  6.190263  \n",
       "2517  6.356967  2.617187  2.702283  5.832842  14.652923  7.768075  6.219195  \n",
       "2518  6.432148  2.589829  2.660866  5.900929  14.913592  7.627547  6.175240  \n",
       "2519  6.362340  2.582682  2.641320  5.960777  15.082737  7.550930  6.203648  \n",
       "2520  6.274281  2.621483  2.668209  6.039240  14.941450  7.470439  6.146990  \n",
       "\n",
       "[2521 rows x 500 columns]"
      ]
     },
     "execution_count": 131,
     "metadata": {},
     "output_type": "execute_result"
    }
   ],
   "source": [
    "# Run the Monte Carlo simulation to forecast 10 years cumulative returns\n",
    "mc_10year.calc_cumulative_return()"
   ]
  },
  {
   "cell_type": "code",
   "execution_count": 132,
   "metadata": {},
   "outputs": [
    {
     "data": {
      "image/png": "[encoded data removed]",
      "text/plain": [
       "<Figure size 432x288 with 1 Axes>"
      ]
     },
     "metadata": {
      "needs_background": "light"
     },
     "output_type": "display_data"
    }
   ],
   "source": [
    "# Visualize the 10-year Monte Carlo simulation by creating an\n",
    "# overlay line plot\n",
    "line_plot_10 = mc_10year.plot_simulation()\n",
    "#save the plot for document display\n",
    "line_plot_10.get_figure().savefig('Images/mc_10year_plot.png', bbox_inches='tight')"
   ]
  },
  {
   "cell_type": "code",
   "execution_count": 133,
   "metadata": {},
   "outputs": [
    {
     "data": {
      "image/png": "[encoded data removed]",
      "text/plain": [
       "<Figure size 432x288 with 1 Axes>"
      ]
     },
     "metadata": {
      "needs_background": "light"
     },
     "output_type": "display_data"
    }
   ],
   "source": [
    "# Visualize the probability distribution of the 10-year Monte Carlo simulation \n",
    "# by plotting a histogram\n",
    "dist_plot_10 = mc_10year.plot_distribution()\n",
    "#save the plot for document display\n",
    "dist_plot_10.get_figure().savefig('Images/mc_10year_dist_plot.png', bbox_inches='tight')"
   ]
  },
  {
   "cell_type": "code",
   "execution_count": 134,
   "metadata": {},
   "outputs": [
    {
     "name": "stdout",
     "output_type": "stream",
     "text": [
      "count           500.000000\n",
      "mean              5.061597\n",
      "std               3.062742\n",
      "min               0.542116\n",
      "25%               2.991596\n",
      "50%               4.274806\n",
      "75%               6.230098\n",
      "max              26.762204\n",
      "95% CI Lower      1.441635\n",
      "95% CI Upper     13.030137\n",
      "Name: 2520, dtype: float64\n"
     ]
    }
   ],
   "source": [
    "# Generate summary statistics from the 10-year Monte Carlo simulation results\n",
    "mc10_summary = mc_10year.summarize_cumulative_return()\n",
    "\n",
    "# Review the 10-year Monte Carlo summary statistics\n",
    "print(mc10_summary)"
   ]
  },
  {
   "cell_type": "markdown",
   "metadata": {},
   "source": [
    "### Answer the following questions:"
   ]
  },
  {
   "cell_type": "markdown",
   "metadata": {},
   "source": [
    "#### Question: Using the current value of only the stock and bond portion of the member's portfolio and the summary statistics that you generated from the new Monte Carlo simulation, what are the lower and upper bounds for the expected value of the portfolio (with the new weights) with a 95% confidence interval?"
   ]
  },
  {
   "cell_type": "code",
   "execution_count": 75,
   "metadata": {},
   "outputs": [
    {
     "name": "stdout",
     "output_type": "stream",
     "text": [
      "The current balance of the stock and bond portion of the members portfolio is $72143.6\n",
      "The lower 95% confidence interval is 1.5262094049905255\n",
      "The upper 95% confidence interval is 10.282709335476026\n"
     ]
    }
   ],
   "source": [
    "# Print the current balance of the stock and bond portion of the members portfolio\n",
    "print(f'The current balance of the stock and bond portion of the members portfolio is ${total_stocks_bonds}')\n",
    "investment_amount = total_stocks_bonds\n",
    "ci_lower_10 = mc10_summary[8]\n",
    "ci_upper_10 = mc10_summary[9]\n",
    "\n",
    "print(f'The lower 95% confidence interval is {ci_lower_10}')\n",
    "print(f'The upper 95% confidence interval is {ci_upper_10}')"
   ]
  },
  {
   "cell_type": "code",
   "execution_count": 77,
   "metadata": {},
   "outputs": [
    {
     "name": "stdout",
     "output_type": "stream",
     "text": [
      "The possible 10-year outcomes for the current stock/bond portfolio with a 95% confidence interval\n",
      "is between $110106.24 and $741831.67\n"
     ]
    }
   ],
   "source": [
    "# Calculate the range of the possible outcomes for the current stock/bond portfolio with a 95% confidence interval\n",
    "ci_lower_ten_cumulative_return = round(ci_lower_10 * investment_amount, 2)\n",
    "ci_upper_ten_cumulative_return = round(ci_upper_10 * investment_amount, 2)\n",
    "\n",
    "# Print the result of your calculations\n",
    "print(f'The possible 10-year outcomes for the current stock/bond portfolio with a 95% confidence interval')\n",
    "print(f'is between ${ci_lower_ten_cumulative_return} and ${ci_upper_ten_cumulative_return}')"
   ]
  },
  {
   "cell_type": "markdown",
   "metadata": {},
   "source": [
    "#### Question: Will weighting the portfolio more heavily to stocks allow the credit union members to retire after only 10 years?"
   ]
  },
  {
   "cell_type": "raw",
   "metadata": {},
   "source": [
    "Based on these Monte Carlo simulations, this prototype client will not have enough money to retire in 10 years, even with aggressive stock investments. The low end of the 10-year confidence interval does not even equal to 1 year of the client's current income ($144,000). Of course depending on the clients current age and ability to make additional contributions, this simulation can continue to be used to evaluate changes in their portfolios and retirement expectations."
   ]
  },
  {
   "cell_type": "code",
   "execution_count": null,
   "metadata": {},
   "outputs": [],
   "source": []
  }
 ],
 "metadata": {
  "kernelspec": {
   "display_name": "dev",
   "language": "python",
   "name": "dev"
  },
  "language_info": {
   "codemirror_mode": {
    "name": "ipython",
    "version": 3
   },
   "file_extension": ".py",
   "mimetype": "text/x-python",
   "name": "python",
   "nbconvert_exporter": "python",
   "pygments_lexer": "ipython3",
   "version": "3.7.11"
  }
 },
 "nbformat": 4,
 "nbformat_minor": 4
}
